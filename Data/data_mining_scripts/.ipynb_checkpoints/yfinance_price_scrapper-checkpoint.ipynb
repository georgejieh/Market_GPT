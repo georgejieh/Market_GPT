{
 "cells": [
  {
   "cell_type": "markdown",
   "id": "1095d115",
   "metadata": {},
   "source": [
    "# Intro\n",
    "\n",
    "The \"base\" of the knowledge presented in this script is from Oleh Onyshchak on Kaggle.       \n",
    "https://www.kaggle.com/code/jacksoncrow/download-nasdaq-historical-data"
   ]
  },
  {
   "cell_type": "markdown",
   "id": "67a0c1c1",
   "metadata": {},
   "source": [
    "## Configs"
   ]
  },
  {
   "cell_type": "code",
   "execution_count": 15,
   "id": "4faf23db",
   "metadata": {},
   "outputs": [],
   "source": [
    "offset = 0\n",
    "limit = 3000\n",
    "period = 'max'"
   ]
  },
  {
   "cell_type": "markdown",
   "id": "e6773c97",
   "metadata": {},
   "source": [
    "## Import Dependencies"
   ]
  },
  {
   "cell_type": "code",
   "execution_count": 16,
   "id": "c9e47948",
   "metadata": {},
   "outputs": [],
   "source": [
    "import pandas as pd\n",
    "import yfinance as yf\n",
    "import os, contextlib"
   ]
  },
  {
   "cell_type": "markdown",
   "id": "0254d383",
   "metadata": {},
   "source": [
    "## Download Symbols and Securities Identifiers\n",
    "I have pulled all .txt files directly from Nasdaq Trader's ftp server.               \n",
    "ftp.nasdaqtrader.com"
   ]
  },
  {
   "cell_type": "markdown",
   "id": "955dd5a3",
   "metadata": {},
   "source": [
    "### Nasdaq Listed Companies"
   ]
  },
  {
   "cell_type": "code",
   "execution_count": 24,
   "id": "16fb8209",
   "metadata": {},
   "outputs": [
    {
     "name": "stdout",
     "output_type": "stream",
     "text": [
      "total number of symbols traded = 5151\n"
     ]
    }
   ],
   "source": [
    "nasdaq_data = pd.read_csv(\"/home/eadric_ricmund/Documents/git_repos/Market_AI/Data/tickers/nasdaqlisted.txt\", sep='|')\n",
    "nasdaq_data_clean = nasdaq_data[nasdaq_data['Test Issue'] == 'N']\n",
    "nasdaq_symbols = nasdaq_data_clean['Symbol'].tolist()\n",
    "print('total number of symbols traded = {}'.format(len(nasdaq_symbols)))"
   ]
  },
  {
   "cell_type": "markdown",
   "id": "2d8cb4c1",
   "metadata": {},
   "source": [
    "### Other Exchange Listed Companies "
   ]
  },
  {
   "cell_type": "code",
   "execution_count": 25,
   "id": "83d05f13",
   "metadata": {},
   "outputs": [
    {
     "name": "stdout",
     "output_type": "stream",
     "text": [
      "total number of symbols traded = 6148\n"
     ]
    }
   ],
   "source": [
    "other_data = pd.read_csv(\"/home/eadric_ricmund/Documents/git_repos/Market_AI/Data/tickers/otherlisted.txt\", sep='|')\n",
    "other_data_clean = other_data[other_data['Test Issue'] == 'N']\n",
    "other_symbols = other_data_clean['ACT Symbol'].tolist()\n",
    "print('total number of symbols traded = {}'.format(len(other_symbols)))"
   ]
  },
  {
   "cell_type": "markdown",
   "id": "fdc8c5b6",
   "metadata": {},
   "source": [
    "### OTC Listed Companies"
   ]
  },
  {
   "cell_type": "code",
   "execution_count": 28,
   "id": "be2ee8c7",
   "metadata": {},
   "outputs": [
    {
     "name": "stdout",
     "output_type": "stream",
     "text": [
      "total number of symbols traded = 654\n"
     ]
    }
   ],
   "source": [
    "otc_data = pd.read_csv(\"/home/eadric_ricmund/Documents/git_repos/Market_AI/Data/tickers/otclist.txt\", sep='|')\n",
    "otc_symbols = otc_data['Symbol'].tolist()\n",
    "print('total number of symbols traded = {}'.format(len(otc_symbols)))"
   ]
  },
  {
   "cell_type": "code",
   "execution_count": null,
   "id": "a184889e",
   "metadata": {},
   "outputs": [],
   "source": []
  },
  {
   "cell_type": "code",
   "execution_count": null,
   "id": "0b086755",
   "metadata": {},
   "outputs": [],
   "source": []
  }
 ],
 "metadata": {
  "kernelspec": {
   "display_name": "Python 3 (ipykernel)",
   "language": "python",
   "name": "python3"
  },
  "language_info": {
   "codemirror_mode": {
    "name": "ipython",
    "version": 3
   },
   "file_extension": ".py",
   "mimetype": "text/x-python",
   "name": "python",
   "nbconvert_exporter": "python",
   "pygments_lexer": "ipython3",
   "version": "3.11.4"
  }
 },
 "nbformat": 4,
 "nbformat_minor": 5
}
