{
 "cells": [
  {
   "cell_type": "markdown",
   "id": "ea1d61e7",
   "metadata": {},
   "source": [
    "# Intro\n",
    "\n",
    "The \"base\" of the knowledge presented in this script is from Oleh Onyshchak on Kaggle.       \n",
    "https://www.kaggle.com/code/jacksoncrow/download-nasdaq-historical-data"
   ]
  },
  {
   "cell_type": "markdown",
   "id": "42e646e5",
   "metadata": {},
   "source": [
    "## Configs"
   ]
  },
  {
   "cell_type": "code",
   "execution_count": 15,
   "id": "eccd490d",
   "metadata": {},
   "outputs": [],
   "source": [
    "offset = 0\n",
    "limit = 3000\n",
    "period = 'max'"
   ]
  },
  {
   "cell_type": "markdown",
   "id": "2efc3756",
   "metadata": {},
   "source": [
    "## Import Dependencies"
   ]
  },
  {
   "cell_type": "code",
   "execution_count": 16,
   "id": "f36e1ca2",
   "metadata": {},
   "outputs": [],
   "source": [
    "import pandas as pd\n",
    "import yfinance as yf\n",
    "import os, contextlib"
   ]
  },
  {
   "cell_type": "markdown",
   "id": "0d28bd80",
   "metadata": {},
   "source": [
    "## Download Symbols and Securities Identifiers\n",
    "I have pulled all .txt files directly from Nasdaq Trader's ftp server.               \n",
    "ftp.nasdaqtrader.com"
   ]
  },
  {
   "cell_type": "markdown",
   "id": "37a36b2d",
   "metadata": {},
   "source": [
    "### Nasdaq Listed Companies"
   ]
  },
  {
   "cell_type": "code",
   "execution_count": 24,
   "id": "dc278437",
   "metadata": {},
   "outputs": [
    {
     "name": "stdout",
     "output_type": "stream",
     "text": [
      "total number of symbols traded = 5151\n"
     ]
    }
   ],
   "source": [
    "nasdaq_data = pd.read_csv(\"/home/eadric_ricmund/Documents/git_repos/Market_AI/Data/tickers/nasdaqlisted.txt\", sep='|')\n",
    "nasdaq_data_clean = nasdaq_data[nasdaq_data['Test Issue'] == 'N']\n",
    "nasdaq_symbols = nasdaq_data_clean['Symbol'].tolist()\n",
    "print('total number of symbols traded = {}'.format(len(nasdaq_symbols)))"
   ]
  },
  {
   "cell_type": "markdown",
   "id": "f3671827",
   "metadata": {},
   "source": [
    "### Other Exchange Listed Companies "
   ]
  },
  {
   "cell_type": "code",
   "execution_count": 25,
   "id": "635ccfc1",
   "metadata": {},
   "outputs": [
    {
     "name": "stdout",
     "output_type": "stream",
     "text": [
      "total number of symbols traded = 6148\n"
     ]
    }
   ],
   "source": [
    "other_data = pd.read_csv(\"/home/eadric_ricmund/Documents/git_repos/Market_AI/Data/tickers/otherlisted.txt\", sep='|')\n",
    "other_data_clean = other_data[other_data['Test Issue'] == 'N']\n",
    "other_symbols = other_data_clean['ACT Symbol'].tolist()\n",
    "print('total number of symbols traded = {}'.format(len(other_symbols)))"
   ]
  },
  {
   "cell_type": "markdown",
   "id": "54ee96ee",
   "metadata": {},
   "source": [
    "### OTC Listed Companies"
   ]
  },
  {
   "cell_type": "code",
   "execution_count": 28,
   "id": "bfa06ead",
   "metadata": {},
   "outputs": [
    {
     "name": "stdout",
     "output_type": "stream",
     "text": [
      "total number of symbols traded = 654\n"
     ]
    }
   ],
   "source": [
    "otc_data = pd.read_csv(\"/home/eadric_ricmund/Documents/git_repos/Market_AI/Data/tickers/otclist.txt\", sep='|')\n",
    "otc_symbols = otc_data['Symbol'].tolist()\n",
    "print('total number of symbols traded = {}'.format(len(otc_symbols)))"
   ]
  },
  {
   "cell_type": "markdown",
   "id": "8708e34d",
   "metadata": {},
   "source": [
    "### Mutual Funds List"
   ]
  },
  {
   "cell_type": "code",
   "execution_count": 30,
   "id": "0866d392",
   "metadata": {},
   "outputs": [
    {
     "name": "stdout",
     "output_type": "stream",
     "text": [
      "total number of symbols traded = 37116\n"
     ]
    }
   ],
   "source": [
    "mfunds_data = pd.read_csv(\"/home/eadric_ricmund/Documents/git_repos/Market_AI/Data/tickers/mfundslist.txt\", sep='|')\n",
    "mfunds_symbols = mfunds_data['Fund Symbol'].tolist()\n",
    "print('total number of symbols traded = {}'.format(len(mfunds_symbols)))"
   ]
  },
  {
   "cell_type": "code",
   "execution_count": null,
   "id": "19f9a0d1",
   "metadata": {},
   "outputs": [],
   "source": []
  }
 ],
 "metadata": {
  "kernelspec": {
   "display_name": "Python 3 (ipykernel)",
   "language": "python",
   "name": "python3"
  },
  "language_info": {
   "codemirror_mode": {
    "name": "ipython",
    "version": 3
   },
   "file_extension": ".py",
   "mimetype": "text/x-python",
   "name": "python",
   "nbconvert_exporter": "python",
   "pygments_lexer": "ipython3",
   "version": "3.11.4"
  }
 },
 "nbformat": 4,
 "nbformat_minor": 5
}
